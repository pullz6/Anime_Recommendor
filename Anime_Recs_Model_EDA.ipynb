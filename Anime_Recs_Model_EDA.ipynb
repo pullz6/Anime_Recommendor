{
  "nbformat": 4,
  "nbformat_minor": 0,
  "metadata": {
    "colab": {
      "provenance": [],
      "machine_shape": "hm",
      "authorship_tag": "ABX9TyO3Ke39BcaDDv2+EzHz7Clw",
      "include_colab_link": true
    },
    "kernelspec": {
      "name": "python3",
      "display_name": "Python 3"
    },
    "language_info": {
      "name": "python"
    }
  },
  "cells": [
    {
      "cell_type": "markdown",
      "metadata": {
        "id": "view-in-github",
        "colab_type": "text"
      },
      "source": [
        "<a href=\"https://colab.research.google.com/github/pullz6/Anime_Recommendor/blob/main/Anime_Recs_Model_EDA.ipynb\" target=\"_parent\"><img src=\"https://colab.research.google.com/assets/colab-badge.svg\" alt=\"Open In Colab\"/></a>"
      ]
    },
    {
      "cell_type": "markdown",
      "source": [
        "## Anime Recommendor Model"
      ],
      "metadata": {
        "id": "9_vpYN72Vq5k"
      }
    },
    {
      "cell_type": "code",
      "source": [
        "!pip install kaggle"
      ],
      "metadata": {
        "colab": {
          "base_uri": "https://localhost:8080/"
        },
        "id": "6jvKUe1pguiC",
        "outputId": "0badf621-ea39-466f-8ceb-95f6b1be7588"
      },
      "execution_count": 1,
      "outputs": [
        {
          "output_type": "stream",
          "name": "stdout",
          "text": [
            "Requirement already satisfied: kaggle in /usr/local/lib/python3.10/dist-packages (1.6.14)\n",
            "Requirement already satisfied: six>=1.10 in /usr/local/lib/python3.10/dist-packages (from kaggle) (1.16.0)\n",
            "Requirement already satisfied: certifi>=2023.7.22 in /usr/local/lib/python3.10/dist-packages (from kaggle) (2024.7.4)\n",
            "Requirement already satisfied: python-dateutil in /usr/local/lib/python3.10/dist-packages (from kaggle) (2.8.2)\n",
            "Requirement already satisfied: requests in /usr/local/lib/python3.10/dist-packages (from kaggle) (2.31.0)\n",
            "Requirement already satisfied: tqdm in /usr/local/lib/python3.10/dist-packages (from kaggle) (4.66.4)\n",
            "Requirement already satisfied: python-slugify in /usr/local/lib/python3.10/dist-packages (from kaggle) (8.0.4)\n",
            "Requirement already satisfied: urllib3 in /usr/local/lib/python3.10/dist-packages (from kaggle) (2.0.7)\n",
            "Requirement already satisfied: bleach in /usr/local/lib/python3.10/dist-packages (from kaggle) (6.1.0)\n",
            "Requirement already satisfied: webencodings in /usr/local/lib/python3.10/dist-packages (from bleach->kaggle) (0.5.1)\n",
            "Requirement already satisfied: text-unidecode>=1.3 in /usr/local/lib/python3.10/dist-packages (from python-slugify->kaggle) (1.3)\n",
            "Requirement already satisfied: charset-normalizer<4,>=2 in /usr/local/lib/python3.10/dist-packages (from requests->kaggle) (3.3.2)\n",
            "Requirement already satisfied: idna<4,>=2.5 in /usr/local/lib/python3.10/dist-packages (from requests->kaggle) (3.7)\n"
          ]
        }
      ]
    },
    {
      "cell_type": "markdown",
      "source": [
        "Getting the Kaggle Dataset of Anime"
      ],
      "metadata": {
        "id": "DKn3Z1zgiNmK"
      }
    },
    {
      "cell_type": "code",
      "source": [
        "! mkdir ~/.kaggle"
      ],
      "metadata": {
        "id": "2dZACbagiDCE"
      },
      "execution_count": 2,
      "outputs": []
    },
    {
      "cell_type": "code",
      "source": [
        "! cp kaggle.json ~/.kaggle/"
      ],
      "metadata": {
        "colab": {
          "base_uri": "https://localhost:8080/"
        },
        "id": "ymqLCDcBiE3a",
        "outputId": "f1c2dab2-2f61-4899-a670-15b654f10956"
      },
      "execution_count": 3,
      "outputs": [
        {
          "output_type": "stream",
          "name": "stdout",
          "text": [
            "cp: cannot stat 'kaggle.json': No such file or directory\n"
          ]
        }
      ]
    },
    {
      "cell_type": "code",
      "source": [
        "! chmod 600 ~/.kaggle/kaggle.json"
      ],
      "metadata": {
        "colab": {
          "base_uri": "https://localhost:8080/"
        },
        "id": "n4ECiS3iiH1H",
        "outputId": "b5cac5f4-3c73-467c-a48f-d8e00550b254"
      },
      "execution_count": 4,
      "outputs": [
        {
          "output_type": "stream",
          "name": "stdout",
          "text": [
            "chmod: cannot access '/root/.kaggle/kaggle.json': No such file or directory\n"
          ]
        }
      ]
    },
    {
      "cell_type": "code",
      "source": [
        "! kaggle datasets download -d azathoth42/myanimelist"
      ],
      "metadata": {
        "colab": {
          "base_uri": "https://localhost:8080/"
        },
        "id": "DUfmFuqmiOIx",
        "outputId": "195de80d-6e80-4d2b-e6b6-a9c2d9659c37"
      },
      "execution_count": 5,
      "outputs": [
        {
          "output_type": "stream",
          "name": "stdout",
          "text": [
            "Dataset URL: https://www.kaggle.com/datasets/azathoth42/myanimelist\n",
            "License(s): DbCL-1.0\n",
            "Downloading myanimelist.zip to /content\n",
            "100% 1.92G/1.92G [00:25<00:00, 93.8MB/s]\n",
            "100% 1.92G/1.92G [00:25<00:00, 81.2MB/s]\n"
          ]
        }
      ]
    },
    {
      "cell_type": "code",
      "execution_count": 6,
      "metadata": {
        "id": "UgX5U_pDGuGu"
      },
      "outputs": [],
      "source": [
        "import numpy\n",
        "import matplotlib.pyplot as plt\n",
        "import pandas as pd"
      ]
    },
    {
      "cell_type": "code",
      "source": [
        "! kaggle datasets download -d vaipant/anime-data-from-1970-to-2024"
      ],
      "metadata": {
        "colab": {
          "base_uri": "https://localhost:8080/"
        },
        "id": "v-8_VIPFv8XS",
        "outputId": "d461a568-8594-4cec-c998-4caf077da7f1"
      },
      "execution_count": 7,
      "outputs": [
        {
          "output_type": "stream",
          "name": "stdout",
          "text": [
            "Dataset URL: https://www.kaggle.com/datasets/vaipant/anime-data-from-1970-to-2024\n",
            "License(s): MIT\n",
            "Downloading anime-data-from-1970-to-2024.zip to /content\n",
            "  0% 0.00/1.83M [00:00<?, ?B/s]\n",
            "100% 1.83M/1.83M [00:00<00:00, 64.5MB/s]\n"
          ]
        }
      ]
    },
    {
      "cell_type": "code",
      "source": [
        "! unzip anime-data-from-1970-to-2024.zip"
      ],
      "metadata": {
        "colab": {
          "base_uri": "https://localhost:8080/"
        },
        "id": "EOYkXohpv_16",
        "outputId": "179f01c1-aeea-4dc0-b4dc-ac6edcc6482d"
      },
      "execution_count": 8,
      "outputs": [
        {
          "output_type": "stream",
          "name": "stdout",
          "text": [
            "Archive:  anime-data-from-1970-to-2024.zip\n",
            "  inflating: data.json               \n",
            "  inflating: scrapping1.ipynb        \n",
            "  inflating: scrapping2.ipynb        \n",
            "  inflating: user_recommendation.csv  \n"
          ]
        }
      ]
    },
    {
      "cell_type": "code",
      "source": [
        "df_all_anime = pd.read_json('data.json')"
      ],
      "metadata": {
        "id": "mtk_2tvnwoVt"
      },
      "execution_count": 9,
      "outputs": []
    },
    {
      "cell_type": "code",
      "source": [
        "df_all_anime.head()"
      ],
      "metadata": {
        "colab": {
          "base_uri": "https://localhost:8080/",
          "height": 539
        },
        "id": "tYfjK3J9wuSL",
        "outputId": "eb107db8-87d3-4b07-978e-f7a27aee5a35"
      },
      "execution_count": 10,
      "outputs": [
        {
          "output_type": "execute_result",
          "data": {
            "text/plain": [
              "   mal_id                                titles   type        source  \\\n",
              "0    1550                       [Attack No.1, ]     TV         Manga   \n",
              "1    2406               [Sazae-san, Mrs. Sazae]     TV  4-koma manga   \n",
              "2    9895                      [The Bathroom, ]  Movie      Original   \n",
              "3    9163                [Attack No.1 (1970), ]  Movie       Unknown   \n",
              "4    7259  [Kenju Giga, Anthropo-Cynical Farce]  Movie      Original   \n",
              "\n",
              "   episodes                          rating  score  scored_by     rank  \\\n",
              "0     104.0       PG-13 - Teens 13 or older   7.07     4117.0   4124.0   \n",
              "1       NaN                    G - All Ages   6.14     1869.0   9126.0   \n",
              "2       1.0  R - 17+ (violence & profanity)   4.22     1003.0  13223.0   \n",
              "3       1.0       PG-13 - Teens 13 or older   6.39      444.0   7795.0   \n",
              "4       1.0       PG-13 - Teens 13 or older   4.92      595.0  12800.0   \n",
              "\n",
              "   popularity  members  favorites  \\\n",
              "0        6406     9979         72   \n",
              "1        6890     8403         38   \n",
              "2       11636     1779          0   \n",
              "3       12299     1410          3   \n",
              "4       12805     1206          0   \n",
              "\n",
              "                                            synopsis  \\\n",
              "0  Kozue is a middleschool girl and enthusiastic ...   \n",
              "1  The main character is a mother named Sazae-san...   \n",
              "2  A surrealistic short from minimalist cartoonis...   \n",
              "3  The first recap film of Attack No.1 , it cover...   \n",
              "4  A dog race is interrupted by a ringmaster, who...   \n",
              "\n",
              "                    studios                   genres                   themes  \n",
              "0       Tokyo Movie Shinsha          [Drama, Sports]            [Team Sports]  \n",
              "1                     Eiken  [Comedy, Slice of Life]                       []  \n",
              "2  Kuri Jikken Manga Koubou    [Avant Garde, Comedy]                       []  \n",
              "3                                    [Drama, Sports]            [Team Sports]  \n",
              "4                                                 []  [Parody, Psychological]  "
            ],
            "text/html": [
              "\n",
              "  <div id=\"df-803ccf21-8f07-4f91-9d68-15f5c3c7650f\" class=\"colab-df-container\">\n",
              "    <div>\n",
              "<style scoped>\n",
              "    .dataframe tbody tr th:only-of-type {\n",
              "        vertical-align: middle;\n",
              "    }\n",
              "\n",
              "    .dataframe tbody tr th {\n",
              "        vertical-align: top;\n",
              "    }\n",
              "\n",
              "    .dataframe thead th {\n",
              "        text-align: right;\n",
              "    }\n",
              "</style>\n",
              "<table border=\"1\" class=\"dataframe\">\n",
              "  <thead>\n",
              "    <tr style=\"text-align: right;\">\n",
              "      <th></th>\n",
              "      <th>mal_id</th>\n",
              "      <th>titles</th>\n",
              "      <th>type</th>\n",
              "      <th>source</th>\n",
              "      <th>episodes</th>\n",
              "      <th>rating</th>\n",
              "      <th>score</th>\n",
              "      <th>scored_by</th>\n",
              "      <th>rank</th>\n",
              "      <th>popularity</th>\n",
              "      <th>members</th>\n",
              "      <th>favorites</th>\n",
              "      <th>synopsis</th>\n",
              "      <th>studios</th>\n",
              "      <th>genres</th>\n",
              "      <th>themes</th>\n",
              "    </tr>\n",
              "  </thead>\n",
              "  <tbody>\n",
              "    <tr>\n",
              "      <th>0</th>\n",
              "      <td>1550</td>\n",
              "      <td>[Attack No.1, ]</td>\n",
              "      <td>TV</td>\n",
              "      <td>Manga</td>\n",
              "      <td>104.0</td>\n",
              "      <td>PG-13 - Teens 13 or older</td>\n",
              "      <td>7.07</td>\n",
              "      <td>4117.0</td>\n",
              "      <td>4124.0</td>\n",
              "      <td>6406</td>\n",
              "      <td>9979</td>\n",
              "      <td>72</td>\n",
              "      <td>Kozue is a middleschool girl and enthusiastic ...</td>\n",
              "      <td>Tokyo Movie Shinsha</td>\n",
              "      <td>[Drama, Sports]</td>\n",
              "      <td>[Team Sports]</td>\n",
              "    </tr>\n",
              "    <tr>\n",
              "      <th>1</th>\n",
              "      <td>2406</td>\n",
              "      <td>[Sazae-san, Mrs. Sazae]</td>\n",
              "      <td>TV</td>\n",
              "      <td>4-koma manga</td>\n",
              "      <td>NaN</td>\n",
              "      <td>G - All Ages</td>\n",
              "      <td>6.14</td>\n",
              "      <td>1869.0</td>\n",
              "      <td>9126.0</td>\n",
              "      <td>6890</td>\n",
              "      <td>8403</td>\n",
              "      <td>38</td>\n",
              "      <td>The main character is a mother named Sazae-san...</td>\n",
              "      <td>Eiken</td>\n",
              "      <td>[Comedy, Slice of Life]</td>\n",
              "      <td>[]</td>\n",
              "    </tr>\n",
              "    <tr>\n",
              "      <th>2</th>\n",
              "      <td>9895</td>\n",
              "      <td>[The Bathroom, ]</td>\n",
              "      <td>Movie</td>\n",
              "      <td>Original</td>\n",
              "      <td>1.0</td>\n",
              "      <td>R - 17+ (violence &amp; profanity)</td>\n",
              "      <td>4.22</td>\n",
              "      <td>1003.0</td>\n",
              "      <td>13223.0</td>\n",
              "      <td>11636</td>\n",
              "      <td>1779</td>\n",
              "      <td>0</td>\n",
              "      <td>A surrealistic short from minimalist cartoonis...</td>\n",
              "      <td>Kuri Jikken Manga Koubou</td>\n",
              "      <td>[Avant Garde, Comedy]</td>\n",
              "      <td>[]</td>\n",
              "    </tr>\n",
              "    <tr>\n",
              "      <th>3</th>\n",
              "      <td>9163</td>\n",
              "      <td>[Attack No.1 (1970), ]</td>\n",
              "      <td>Movie</td>\n",
              "      <td>Unknown</td>\n",
              "      <td>1.0</td>\n",
              "      <td>PG-13 - Teens 13 or older</td>\n",
              "      <td>6.39</td>\n",
              "      <td>444.0</td>\n",
              "      <td>7795.0</td>\n",
              "      <td>12299</td>\n",
              "      <td>1410</td>\n",
              "      <td>3</td>\n",
              "      <td>The first recap film of Attack No.1 , it cover...</td>\n",
              "      <td></td>\n",
              "      <td>[Drama, Sports]</td>\n",
              "      <td>[Team Sports]</td>\n",
              "    </tr>\n",
              "    <tr>\n",
              "      <th>4</th>\n",
              "      <td>7259</td>\n",
              "      <td>[Kenju Giga, Anthropo-Cynical Farce]</td>\n",
              "      <td>Movie</td>\n",
              "      <td>Original</td>\n",
              "      <td>1.0</td>\n",
              "      <td>PG-13 - Teens 13 or older</td>\n",
              "      <td>4.92</td>\n",
              "      <td>595.0</td>\n",
              "      <td>12800.0</td>\n",
              "      <td>12805</td>\n",
              "      <td>1206</td>\n",
              "      <td>0</td>\n",
              "      <td>A dog race is interrupted by a ringmaster, who...</td>\n",
              "      <td></td>\n",
              "      <td>[]</td>\n",
              "      <td>[Parody, Psychological]</td>\n",
              "    </tr>\n",
              "  </tbody>\n",
              "</table>\n",
              "</div>\n",
              "    <div class=\"colab-df-buttons\">\n",
              "\n",
              "  <div class=\"colab-df-container\">\n",
              "    <button class=\"colab-df-convert\" onclick=\"convertToInteractive('df-803ccf21-8f07-4f91-9d68-15f5c3c7650f')\"\n",
              "            title=\"Convert this dataframe to an interactive table.\"\n",
              "            style=\"display:none;\">\n",
              "\n",
              "  <svg xmlns=\"http://www.w3.org/2000/svg\" height=\"24px\" viewBox=\"0 -960 960 960\">\n",
              "    <path d=\"M120-120v-720h720v720H120Zm60-500h600v-160H180v160Zm220 220h160v-160H400v160Zm0 220h160v-160H400v160ZM180-400h160v-160H180v160Zm440 0h160v-160H620v160ZM180-180h160v-160H180v160Zm440 0h160v-160H620v160Z\"/>\n",
              "  </svg>\n",
              "    </button>\n",
              "\n",
              "  <style>\n",
              "    .colab-df-container {\n",
              "      display:flex;\n",
              "      gap: 12px;\n",
              "    }\n",
              "\n",
              "    .colab-df-convert {\n",
              "      background-color: #E8F0FE;\n",
              "      border: none;\n",
              "      border-radius: 50%;\n",
              "      cursor: pointer;\n",
              "      display: none;\n",
              "      fill: #1967D2;\n",
              "      height: 32px;\n",
              "      padding: 0 0 0 0;\n",
              "      width: 32px;\n",
              "    }\n",
              "\n",
              "    .colab-df-convert:hover {\n",
              "      background-color: #E2EBFA;\n",
              "      box-shadow: 0px 1px 2px rgba(60, 64, 67, 0.3), 0px 1px 3px 1px rgba(60, 64, 67, 0.15);\n",
              "      fill: #174EA6;\n",
              "    }\n",
              "\n",
              "    .colab-df-buttons div {\n",
              "      margin-bottom: 4px;\n",
              "    }\n",
              "\n",
              "    [theme=dark] .colab-df-convert {\n",
              "      background-color: #3B4455;\n",
              "      fill: #D2E3FC;\n",
              "    }\n",
              "\n",
              "    [theme=dark] .colab-df-convert:hover {\n",
              "      background-color: #434B5C;\n",
              "      box-shadow: 0px 1px 3px 1px rgba(0, 0, 0, 0.15);\n",
              "      filter: drop-shadow(0px 1px 2px rgba(0, 0, 0, 0.3));\n",
              "      fill: #FFFFFF;\n",
              "    }\n",
              "  </style>\n",
              "\n",
              "    <script>\n",
              "      const buttonEl =\n",
              "        document.querySelector('#df-803ccf21-8f07-4f91-9d68-15f5c3c7650f button.colab-df-convert');\n",
              "      buttonEl.style.display =\n",
              "        google.colab.kernel.accessAllowed ? 'block' : 'none';\n",
              "\n",
              "      async function convertToInteractive(key) {\n",
              "        const element = document.querySelector('#df-803ccf21-8f07-4f91-9d68-15f5c3c7650f');\n",
              "        const dataTable =\n",
              "          await google.colab.kernel.invokeFunction('convertToInteractive',\n",
              "                                                    [key], {});\n",
              "        if (!dataTable) return;\n",
              "\n",
              "        const docLinkHtml = 'Like what you see? Visit the ' +\n",
              "          '<a target=\"_blank\" href=https://colab.research.google.com/notebooks/data_table.ipynb>data table notebook</a>'\n",
              "          + ' to learn more about interactive tables.';\n",
              "        element.innerHTML = '';\n",
              "        dataTable['output_type'] = 'display_data';\n",
              "        await google.colab.output.renderOutput(dataTable, element);\n",
              "        const docLink = document.createElement('div');\n",
              "        docLink.innerHTML = docLinkHtml;\n",
              "        element.appendChild(docLink);\n",
              "      }\n",
              "    </script>\n",
              "  </div>\n",
              "\n",
              "\n",
              "<div id=\"df-456126dd-4a82-4d1e-9cc0-c91b160d33a5\">\n",
              "  <button class=\"colab-df-quickchart\" onclick=\"quickchart('df-456126dd-4a82-4d1e-9cc0-c91b160d33a5')\"\n",
              "            title=\"Suggest charts\"\n",
              "            style=\"display:none;\">\n",
              "\n",
              "<svg xmlns=\"http://www.w3.org/2000/svg\" height=\"24px\"viewBox=\"0 0 24 24\"\n",
              "     width=\"24px\">\n",
              "    <g>\n",
              "        <path d=\"M19 3H5c-1.1 0-2 .9-2 2v14c0 1.1.9 2 2 2h14c1.1 0 2-.9 2-2V5c0-1.1-.9-2-2-2zM9 17H7v-7h2v7zm4 0h-2V7h2v10zm4 0h-2v-4h2v4z\"/>\n",
              "    </g>\n",
              "</svg>\n",
              "  </button>\n",
              "\n",
              "<style>\n",
              "  .colab-df-quickchart {\n",
              "      --bg-color: #E8F0FE;\n",
              "      --fill-color: #1967D2;\n",
              "      --hover-bg-color: #E2EBFA;\n",
              "      --hover-fill-color: #174EA6;\n",
              "      --disabled-fill-color: #AAA;\n",
              "      --disabled-bg-color: #DDD;\n",
              "  }\n",
              "\n",
              "  [theme=dark] .colab-df-quickchart {\n",
              "      --bg-color: #3B4455;\n",
              "      --fill-color: #D2E3FC;\n",
              "      --hover-bg-color: #434B5C;\n",
              "      --hover-fill-color: #FFFFFF;\n",
              "      --disabled-bg-color: #3B4455;\n",
              "      --disabled-fill-color: #666;\n",
              "  }\n",
              "\n",
              "  .colab-df-quickchart {\n",
              "    background-color: var(--bg-color);\n",
              "    border: none;\n",
              "    border-radius: 50%;\n",
              "    cursor: pointer;\n",
              "    display: none;\n",
              "    fill: var(--fill-color);\n",
              "    height: 32px;\n",
              "    padding: 0;\n",
              "    width: 32px;\n",
              "  }\n",
              "\n",
              "  .colab-df-quickchart:hover {\n",
              "    background-color: var(--hover-bg-color);\n",
              "    box-shadow: 0 1px 2px rgba(60, 64, 67, 0.3), 0 1px 3px 1px rgba(60, 64, 67, 0.15);\n",
              "    fill: var(--button-hover-fill-color);\n",
              "  }\n",
              "\n",
              "  .colab-df-quickchart-complete:disabled,\n",
              "  .colab-df-quickchart-complete:disabled:hover {\n",
              "    background-color: var(--disabled-bg-color);\n",
              "    fill: var(--disabled-fill-color);\n",
              "    box-shadow: none;\n",
              "  }\n",
              "\n",
              "  .colab-df-spinner {\n",
              "    border: 2px solid var(--fill-color);\n",
              "    border-color: transparent;\n",
              "    border-bottom-color: var(--fill-color);\n",
              "    animation:\n",
              "      spin 1s steps(1) infinite;\n",
              "  }\n",
              "\n",
              "  @keyframes spin {\n",
              "    0% {\n",
              "      border-color: transparent;\n",
              "      border-bottom-color: var(--fill-color);\n",
              "      border-left-color: var(--fill-color);\n",
              "    }\n",
              "    20% {\n",
              "      border-color: transparent;\n",
              "      border-left-color: var(--fill-color);\n",
              "      border-top-color: var(--fill-color);\n",
              "    }\n",
              "    30% {\n",
              "      border-color: transparent;\n",
              "      border-left-color: var(--fill-color);\n",
              "      border-top-color: var(--fill-color);\n",
              "      border-right-color: var(--fill-color);\n",
              "    }\n",
              "    40% {\n",
              "      border-color: transparent;\n",
              "      border-right-color: var(--fill-color);\n",
              "      border-top-color: var(--fill-color);\n",
              "    }\n",
              "    60% {\n",
              "      border-color: transparent;\n",
              "      border-right-color: var(--fill-color);\n",
              "    }\n",
              "    80% {\n",
              "      border-color: transparent;\n",
              "      border-right-color: var(--fill-color);\n",
              "      border-bottom-color: var(--fill-color);\n",
              "    }\n",
              "    90% {\n",
              "      border-color: transparent;\n",
              "      border-bottom-color: var(--fill-color);\n",
              "    }\n",
              "  }\n",
              "</style>\n",
              "\n",
              "  <script>\n",
              "    async function quickchart(key) {\n",
              "      const quickchartButtonEl =\n",
              "        document.querySelector('#' + key + ' button');\n",
              "      quickchartButtonEl.disabled = true;  // To prevent multiple clicks.\n",
              "      quickchartButtonEl.classList.add('colab-df-spinner');\n",
              "      try {\n",
              "        const charts = await google.colab.kernel.invokeFunction(\n",
              "            'suggestCharts', [key], {});\n",
              "      } catch (error) {\n",
              "        console.error('Error during call to suggestCharts:', error);\n",
              "      }\n",
              "      quickchartButtonEl.classList.remove('colab-df-spinner');\n",
              "      quickchartButtonEl.classList.add('colab-df-quickchart-complete');\n",
              "    }\n",
              "    (() => {\n",
              "      let quickchartButtonEl =\n",
              "        document.querySelector('#df-456126dd-4a82-4d1e-9cc0-c91b160d33a5 button');\n",
              "      quickchartButtonEl.style.display =\n",
              "        google.colab.kernel.accessAllowed ? 'block' : 'none';\n",
              "    })();\n",
              "  </script>\n",
              "</div>\n",
              "\n",
              "    </div>\n",
              "  </div>\n"
            ],
            "application/vnd.google.colaboratory.intrinsic+json": {
              "type": "dataframe",
              "variable_name": "df_all_anime",
              "summary": "{\n  \"name\": \"df_all_anime\",\n  \"rows\": 5056,\n  \"fields\": [\n    {\n      \"column\": \"mal_id\",\n      \"properties\": {\n        \"dtype\": \"number\",\n        \"std\": 16425,\n        \"min\": 1,\n        \"max\": 58391,\n        \"num_unique_values\": 4516,\n        \"samples\": [\n          897,\n          2818,\n          37965\n        ],\n        \"semantic_type\": \"\",\n        \"description\": \"\"\n      }\n    },\n    {\n      \"column\": \"titles\",\n      \"properties\": {\n        \"dtype\": \"object\",\n        \"semantic_type\": \"\",\n        \"description\": \"\"\n      }\n    },\n    {\n      \"column\": \"type\",\n      \"properties\": {\n        \"dtype\": \"category\",\n        \"num_unique_values\": 8,\n        \"samples\": [\n          \"Movie\",\n          \"OVA\",\n          \"TV\"\n        ],\n        \"semantic_type\": \"\",\n        \"description\": \"\"\n      }\n    },\n    {\n      \"column\": \"source\",\n      \"properties\": {\n        \"dtype\": \"category\",\n        \"num_unique_values\": 17,\n        \"samples\": [\n          \"Manga\",\n          \"4-koma manga\",\n          \"Picture book\"\n        ],\n        \"semantic_type\": \"\",\n        \"description\": \"\"\n      }\n    },\n    {\n      \"column\": \"episodes\",\n      \"properties\": {\n        \"dtype\": \"number\",\n        \"std\": 62.3297652559163,\n        \"min\": 1.0,\n        \"max\": 1787.0,\n        \"num_unique_values\": 160,\n        \"samples\": [\n          11.0,\n          96.0,\n          220.0\n        ],\n        \"semantic_type\": \"\",\n        \"description\": \"\"\n      }\n    },\n    {\n      \"column\": \"rating\",\n      \"properties\": {\n        \"dtype\": \"category\",\n        \"num_unique_values\": 6,\n        \"samples\": [\n          \"PG-13 - Teens 13 or older\",\n          \"G - All Ages\",\n          \"Rx - Hentai\"\n        ],\n        \"semantic_type\": \"\",\n        \"description\": \"\"\n      }\n    },\n    {\n      \"column\": \"score\",\n      \"properties\": {\n        \"dtype\": \"number\",\n        \"std\": 0.9317902632731225,\n        \"min\": 2.0,\n        \"max\": 9.38,\n        \"num_unique_values\": 472,\n        \"samples\": [\n          5.3,\n          6.74,\n          6.67\n        ],\n        \"semantic_type\": \"\",\n        \"description\": \"\"\n      }\n    },\n    {\n      \"column\": \"scored_by\",\n      \"properties\": {\n        \"dtype\": \"number\",\n        \"std\": 274915.3072530652,\n        \"min\": 105.0,\n        \"max\": 2795232.0,\n        \"num_unique_values\": 3822,\n        \"samples\": [\n          803235.0,\n          76174.0,\n          891724.0\n        ],\n        \"semantic_type\": \"\",\n        \"description\": \"\"\n      }\n    },\n    {\n      \"column\": \"rank\",\n      \"properties\": {\n        \"dtype\": \"number\",\n        \"std\": 4240.655440315445,\n        \"min\": 1.0,\n        \"max\": 20609.0,\n        \"num_unique_values\": 3844,\n        \"samples\": [\n          11187.0,\n          2747.0,\n          5156.0\n        ],\n        \"semantic_type\": \"\",\n        \"description\": \"\"\n      }\n    },\n    {\n      \"column\": \"popularity\",\n      \"properties\": {\n        \"dtype\": \"number\",\n        \"std\": 5668,\n        \"min\": 1,\n        \"max\": 26508,\n        \"num_unique_values\": 4358,\n        \"samples\": [\n          1265,\n          729,\n          13105\n        ],\n        \"semantic_type\": \"\",\n        \"description\": \"\"\n      }\n    },\n    {\n      \"column\": \"members\",\n      \"properties\": {\n        \"dtype\": \"number\",\n        \"std\": 454454,\n        \"min\": 51,\n        \"max\": 3943368,\n        \"num_unique_values\": 4248,\n        \"samples\": [\n          10789,\n          169910,\n          371507\n        ],\n        \"semantic_type\": \"\",\n        \"description\": \"\"\n      }\n    },\n    {\n      \"column\": \"favorites\",\n      \"properties\": {\n        \"dtype\": \"number\",\n        \"std\": 32039,\n        \"min\": 0,\n        \"max\": 225867,\n        \"num_unique_values\": 1725,\n        \"samples\": [\n          134,\n          12363,\n          67\n        ],\n        \"semantic_type\": \"\",\n        \"description\": \"\"\n      }\n    },\n    {\n      \"column\": \"synopsis\",\n      \"properties\": {\n        \"dtype\": \"string\",\n        \"num_unique_values\": 4442,\n        \"samples\": [\n          \"Following Gutsy Galaxy Guard's victory over the Zonder Empire and the 31 Primevals, a new threat makes their appearance on Earth. GGG\\u2014with Guy Shishio and the newly-constructed GaoFighGar\\u2014team up with their French counterpart Chasseur to battle the evil organization BioNet. Among Chasseur's ranks is Renais Cardiff Shishioh, a former BioNet cyborg with the relentless pursuit of destroying those who took away her humanity. But as GGG and Chasseur fight the BioNet, GGG's bases around the world are suddenly attacked, and the recently-discovered \\\"Q-Parts\\\" and the original Gao Machines are stolen by Mamoru Amami, who has been abducted and cloned by an even greater threat known as the \\\"Eleven Kings of Sol.\\\" Evicted from Earth by the United Nations, GGG must now travel to the far reaches of the galaxy to battle the Eleven Kings of Sol and save Mamoru before it's too late.\\n\\n(Source: ANN, edited)\",\n          \"Trouble arises in Staccato one day. Demons show up and start to wreak havoc on the townspeople. The entire country seems to be suffering. The source of the problem is that the \\\"barrier\\\" which until now has kept the demons from crossing over to the human world, is weakening. The person who sustains it is losing her strength after holding it up for so many years. That person is Queen Horn of Sforzando. Hell King Bass is trying to break through the barrier and release their \\\"supreme leader,\\\" Kestra (Orchestra). One whose power is unparalleled yet is trapped somewhere in the world of the humans.\\n\\n(Source: AniDB)\",\n          \"The Kodomo No Omocha OVA is a thirty-minute animation video that was made before the TV series. It covers the first volume of the manga, so it's equivalent to TV episodes 1-6. It relates Sana's troubles with Hayama at school as a result of the \\\"oyakodon baka\\\" situation and culminates when Hayama's dad and sister realize their mistakes thanks to Sana's efforts. \\n\\n(Source: AniDB)\"\n        ],\n        \"semantic_type\": \"\",\n        \"description\": \"\"\n      }\n    },\n    {\n      \"column\": \"studios\",\n      \"properties\": {\n        \"dtype\": \"category\",\n        \"num_unique_values\": 339,\n        \"samples\": [\n          \"Tear Studio\",\n          \"Sanctuary\",\n          \"Minami Machi Bugyousho\"\n        ],\n        \"semantic_type\": \"\",\n        \"description\": \"\"\n      }\n    },\n    {\n      \"column\": \"genres\",\n      \"properties\": {\n        \"dtype\": \"object\",\n        \"semantic_type\": \"\",\n        \"description\": \"\"\n      }\n    },\n    {\n      \"column\": \"themes\",\n      \"properties\": {\n        \"dtype\": \"object\",\n        \"semantic_type\": \"\",\n        \"description\": \"\"\n      }\n    }\n  ]\n}"
            }
          },
          "metadata": {},
          "execution_count": 10
        }
      ]
    },
    {
      "cell_type": "code",
      "source": [
        "df_all_anime.info()"
      ],
      "metadata": {
        "colab": {
          "base_uri": "https://localhost:8080/"
        },
        "id": "M6Ve45L_wxrA",
        "outputId": "b31f9c83-ffda-4c82-fcac-e62383be4348"
      },
      "execution_count": 11,
      "outputs": [
        {
          "output_type": "stream",
          "name": "stdout",
          "text": [
            "<class 'pandas.core.frame.DataFrame'>\n",
            "RangeIndex: 5056 entries, 0 to 5055\n",
            "Data columns (total 16 columns):\n",
            " #   Column      Non-Null Count  Dtype  \n",
            "---  ------      --------------  -----  \n",
            " 0   mal_id      5056 non-null   int64  \n",
            " 1   titles      5056 non-null   object \n",
            " 2   type        5055 non-null   object \n",
            " 3   source      5056 non-null   object \n",
            " 4   episodes    4539 non-null   float64\n",
            " 5   rating      5022 non-null   object \n",
            " 6   score       4817 non-null   float64\n",
            " 7   scored_by   4817 non-null   float64\n",
            " 8   rank        4786 non-null   float64\n",
            " 9   popularity  5056 non-null   int64  \n",
            " 10  members     5056 non-null   int64  \n",
            " 11  favorites   5056 non-null   int64  \n",
            " 12  synopsis    5009 non-null   object \n",
            " 13  studios     5056 non-null   object \n",
            " 14  genres      5056 non-null   object \n",
            " 15  themes      5056 non-null   object \n",
            "dtypes: float64(4), int64(4), object(8)\n",
            "memory usage: 632.1+ KB\n"
          ]
        }
      ]
    },
    {
      "cell_type": "code",
      "source": [
        "df_all_anime = df_all_anime.drop_duplicates('mal_id', keep='first')"
      ],
      "metadata": {
        "id": "-69GpWV61tfB"
      },
      "execution_count": 12,
      "outputs": []
    },
    {
      "cell_type": "code",
      "source": [
        "df_all_anime.dropna(subset=['synopsis'], inplace=True)"
      ],
      "metadata": {
        "id": "ekVvTF3N9qW2"
      },
      "execution_count": 13,
      "outputs": []
    },
    {
      "cell_type": "code",
      "source": [
        "df_all_anime['rank'] = df_all_anime['rank'].fillna(0)\n",
        "df_all_anime['score'] = df_all_anime['score'].fillna(0)\n",
        "df_all_anime['scored_by'] = df_all_anime['scored_by'].fillna(0)\n",
        "df_all_anime['episodes'] = df_all_anime['episodes'].fillna(0)\n",
        "df_all_anime['rating'] = df_all_anime['episodes'].fillna(0)"
      ],
      "metadata": {
        "id": "XbWiuqt24YvD"
      },
      "execution_count": 14,
      "outputs": []
    },
    {
      "cell_type": "code",
      "source": [
        "df_all_anime.info()"
      ],
      "metadata": {
        "colab": {
          "base_uri": "https://localhost:8080/"
        },
        "id": "1pBEvUlW308h",
        "outputId": "2171d8cc-4d66-4b56-c66c-d2e125dd73b6"
      },
      "execution_count": 15,
      "outputs": [
        {
          "output_type": "stream",
          "name": "stdout",
          "text": [
            "<class 'pandas.core.frame.DataFrame'>\n",
            "Index: 4469 entries, 0 to 5054\n",
            "Data columns (total 16 columns):\n",
            " #   Column      Non-Null Count  Dtype  \n",
            "---  ------      --------------  -----  \n",
            " 0   mal_id      4469 non-null   int64  \n",
            " 1   titles      4469 non-null   object \n",
            " 2   type        4468 non-null   object \n",
            " 3   source      4469 non-null   object \n",
            " 4   episodes    4469 non-null   float64\n",
            " 5   rating      4469 non-null   float64\n",
            " 6   score       4469 non-null   float64\n",
            " 7   scored_by   4469 non-null   float64\n",
            " 8   rank        4469 non-null   float64\n",
            " 9   popularity  4469 non-null   int64  \n",
            " 10  members     4469 non-null   int64  \n",
            " 11  favorites   4469 non-null   int64  \n",
            " 12  synopsis    4469 non-null   object \n",
            " 13  studios     4469 non-null   object \n",
            " 14  genres      4469 non-null   object \n",
            " 15  themes      4469 non-null   object \n",
            "dtypes: float64(5), int64(4), object(7)\n",
            "memory usage: 593.5+ KB\n"
          ]
        }
      ]
    },
    {
      "cell_type": "code",
      "source": [
        "df_checkes = df_all_anime[(df_all_anime['episodes'] == 0) & (df_all_anime['rating']==0) & (df_all_anime['rank'] == 0) & (df_all_anime['score'] == 0) & (df_all_anime['scored_by']==0) & (df_all_anime['rating']==0)]"
      ],
      "metadata": {
        "id": "e0NyFXXP5QxX"
      },
      "execution_count": 16,
      "outputs": []
    },
    {
      "cell_type": "code",
      "source": [
        "def cleaning(row):\n",
        "  a = row['genres']+row['themes']\n",
        "  #string_version = ','.join([str(item) for item in a ])\n",
        "  return a\n",
        "\n",
        "df_all_anime['Type'] = df_all_anime.apply(cleaning, axis=1)"
      ],
      "metadata": {
        "id": "YIAQ80O394uI"
      },
      "execution_count": 17,
      "outputs": []
    },
    {
      "cell_type": "code",
      "source": [
        "df_all_anime.drop(['genres','themes'],axis=1,inplace=True)"
      ],
      "metadata": {
        "id": "Cj0S99NOB_Ow"
      },
      "execution_count": 18,
      "outputs": []
    },
    {
      "cell_type": "code",
      "source": [
        "df_all_anime.head()"
      ],
      "metadata": {
        "colab": {
          "base_uri": "https://localhost:8080/",
          "height": 539
        },
        "id": "YPb0v7z6CYxk",
        "outputId": "1af58744-d8fe-4689-ef09-b6deec2d46db"
      },
      "execution_count": 19,
      "outputs": [
        {
          "output_type": "execute_result",
          "data": {
            "text/plain": [
              "   mal_id                                titles   type        source  \\\n",
              "0    1550                       [Attack No.1, ]     TV         Manga   \n",
              "1    2406               [Sazae-san, Mrs. Sazae]     TV  4-koma manga   \n",
              "2    9895                      [The Bathroom, ]  Movie      Original   \n",
              "3    9163                [Attack No.1 (1970), ]  Movie       Unknown   \n",
              "4    7259  [Kenju Giga, Anthropo-Cynical Farce]  Movie      Original   \n",
              "\n",
              "   episodes  rating  score  scored_by     rank  popularity  members  \\\n",
              "0     104.0   104.0   7.07     4117.0   4124.0        6406     9979   \n",
              "1       0.0     0.0   6.14     1869.0   9126.0        6890     8403   \n",
              "2       1.0     1.0   4.22     1003.0  13223.0       11636     1779   \n",
              "3       1.0     1.0   6.39      444.0   7795.0       12299     1410   \n",
              "4       1.0     1.0   4.92      595.0  12800.0       12805     1206   \n",
              "\n",
              "   favorites                                           synopsis  \\\n",
              "0         72  Kozue is a middleschool girl and enthusiastic ...   \n",
              "1         38  The main character is a mother named Sazae-san...   \n",
              "2          0  A surrealistic short from minimalist cartoonis...   \n",
              "3          3  The first recap film of Attack No.1 , it cover...   \n",
              "4          0  A dog race is interrupted by a ringmaster, who...   \n",
              "\n",
              "                    studios                          Type  \n",
              "0       Tokyo Movie Shinsha  [Drama, Sports, Team Sports]  \n",
              "1                     Eiken       [Comedy, Slice of Life]  \n",
              "2  Kuri Jikken Manga Koubou         [Avant Garde, Comedy]  \n",
              "3                            [Drama, Sports, Team Sports]  \n",
              "4                                 [Parody, Psychological]  "
            ],
            "text/html": [
              "\n",
              "  <div id=\"df-df8e4ef2-c2fc-488c-a4d1-df0cca614801\" class=\"colab-df-container\">\n",
              "    <div>\n",
              "<style scoped>\n",
              "    .dataframe tbody tr th:only-of-type {\n",
              "        vertical-align: middle;\n",
              "    }\n",
              "\n",
              "    .dataframe tbody tr th {\n",
              "        vertical-align: top;\n",
              "    }\n",
              "\n",
              "    .dataframe thead th {\n",
              "        text-align: right;\n",
              "    }\n",
              "</style>\n",
              "<table border=\"1\" class=\"dataframe\">\n",
              "  <thead>\n",
              "    <tr style=\"text-align: right;\">\n",
              "      <th></th>\n",
              "      <th>mal_id</th>\n",
              "      <th>titles</th>\n",
              "      <th>type</th>\n",
              "      <th>source</th>\n",
              "      <th>episodes</th>\n",
              "      <th>rating</th>\n",
              "      <th>score</th>\n",
              "      <th>scored_by</th>\n",
              "      <th>rank</th>\n",
              "      <th>popularity</th>\n",
              "      <th>members</th>\n",
              "      <th>favorites</th>\n",
              "      <th>synopsis</th>\n",
              "      <th>studios</th>\n",
              "      <th>Type</th>\n",
              "    </tr>\n",
              "  </thead>\n",
              "  <tbody>\n",
              "    <tr>\n",
              "      <th>0</th>\n",
              "      <td>1550</td>\n",
              "      <td>[Attack No.1, ]</td>\n",
              "      <td>TV</td>\n",
              "      <td>Manga</td>\n",
              "      <td>104.0</td>\n",
              "      <td>104.0</td>\n",
              "      <td>7.07</td>\n",
              "      <td>4117.0</td>\n",
              "      <td>4124.0</td>\n",
              "      <td>6406</td>\n",
              "      <td>9979</td>\n",
              "      <td>72</td>\n",
              "      <td>Kozue is a middleschool girl and enthusiastic ...</td>\n",
              "      <td>Tokyo Movie Shinsha</td>\n",
              "      <td>[Drama, Sports, Team Sports]</td>\n",
              "    </tr>\n",
              "    <tr>\n",
              "      <th>1</th>\n",
              "      <td>2406</td>\n",
              "      <td>[Sazae-san, Mrs. Sazae]</td>\n",
              "      <td>TV</td>\n",
              "      <td>4-koma manga</td>\n",
              "      <td>0.0</td>\n",
              "      <td>0.0</td>\n",
              "      <td>6.14</td>\n",
              "      <td>1869.0</td>\n",
              "      <td>9126.0</td>\n",
              "      <td>6890</td>\n",
              "      <td>8403</td>\n",
              "      <td>38</td>\n",
              "      <td>The main character is a mother named Sazae-san...</td>\n",
              "      <td>Eiken</td>\n",
              "      <td>[Comedy, Slice of Life]</td>\n",
              "    </tr>\n",
              "    <tr>\n",
              "      <th>2</th>\n",
              "      <td>9895</td>\n",
              "      <td>[The Bathroom, ]</td>\n",
              "      <td>Movie</td>\n",
              "      <td>Original</td>\n",
              "      <td>1.0</td>\n",
              "      <td>1.0</td>\n",
              "      <td>4.22</td>\n",
              "      <td>1003.0</td>\n",
              "      <td>13223.0</td>\n",
              "      <td>11636</td>\n",
              "      <td>1779</td>\n",
              "      <td>0</td>\n",
              "      <td>A surrealistic short from minimalist cartoonis...</td>\n",
              "      <td>Kuri Jikken Manga Koubou</td>\n",
              "      <td>[Avant Garde, Comedy]</td>\n",
              "    </tr>\n",
              "    <tr>\n",
              "      <th>3</th>\n",
              "      <td>9163</td>\n",
              "      <td>[Attack No.1 (1970), ]</td>\n",
              "      <td>Movie</td>\n",
              "      <td>Unknown</td>\n",
              "      <td>1.0</td>\n",
              "      <td>1.0</td>\n",
              "      <td>6.39</td>\n",
              "      <td>444.0</td>\n",
              "      <td>7795.0</td>\n",
              "      <td>12299</td>\n",
              "      <td>1410</td>\n",
              "      <td>3</td>\n",
              "      <td>The first recap film of Attack No.1 , it cover...</td>\n",
              "      <td></td>\n",
              "      <td>[Drama, Sports, Team Sports]</td>\n",
              "    </tr>\n",
              "    <tr>\n",
              "      <th>4</th>\n",
              "      <td>7259</td>\n",
              "      <td>[Kenju Giga, Anthropo-Cynical Farce]</td>\n",
              "      <td>Movie</td>\n",
              "      <td>Original</td>\n",
              "      <td>1.0</td>\n",
              "      <td>1.0</td>\n",
              "      <td>4.92</td>\n",
              "      <td>595.0</td>\n",
              "      <td>12800.0</td>\n",
              "      <td>12805</td>\n",
              "      <td>1206</td>\n",
              "      <td>0</td>\n",
              "      <td>A dog race is interrupted by a ringmaster, who...</td>\n",
              "      <td></td>\n",
              "      <td>[Parody, Psychological]</td>\n",
              "    </tr>\n",
              "  </tbody>\n",
              "</table>\n",
              "</div>\n",
              "    <div class=\"colab-df-buttons\">\n",
              "\n",
              "  <div class=\"colab-df-container\">\n",
              "    <button class=\"colab-df-convert\" onclick=\"convertToInteractive('df-df8e4ef2-c2fc-488c-a4d1-df0cca614801')\"\n",
              "            title=\"Convert this dataframe to an interactive table.\"\n",
              "            style=\"display:none;\">\n",
              "\n",
              "  <svg xmlns=\"http://www.w3.org/2000/svg\" height=\"24px\" viewBox=\"0 -960 960 960\">\n",
              "    <path d=\"M120-120v-720h720v720H120Zm60-500h600v-160H180v160Zm220 220h160v-160H400v160Zm0 220h160v-160H400v160ZM180-400h160v-160H180v160Zm440 0h160v-160H620v160ZM180-180h160v-160H180v160Zm440 0h160v-160H620v160Z\"/>\n",
              "  </svg>\n",
              "    </button>\n",
              "\n",
              "  <style>\n",
              "    .colab-df-container {\n",
              "      display:flex;\n",
              "      gap: 12px;\n",
              "    }\n",
              "\n",
              "    .colab-df-convert {\n",
              "      background-color: #E8F0FE;\n",
              "      border: none;\n",
              "      border-radius: 50%;\n",
              "      cursor: pointer;\n",
              "      display: none;\n",
              "      fill: #1967D2;\n",
              "      height: 32px;\n",
              "      padding: 0 0 0 0;\n",
              "      width: 32px;\n",
              "    }\n",
              "\n",
              "    .colab-df-convert:hover {\n",
              "      background-color: #E2EBFA;\n",
              "      box-shadow: 0px 1px 2px rgba(60, 64, 67, 0.3), 0px 1px 3px 1px rgba(60, 64, 67, 0.15);\n",
              "      fill: #174EA6;\n",
              "    }\n",
              "\n",
              "    .colab-df-buttons div {\n",
              "      margin-bottom: 4px;\n",
              "    }\n",
              "\n",
              "    [theme=dark] .colab-df-convert {\n",
              "      background-color: #3B4455;\n",
              "      fill: #D2E3FC;\n",
              "    }\n",
              "\n",
              "    [theme=dark] .colab-df-convert:hover {\n",
              "      background-color: #434B5C;\n",
              "      box-shadow: 0px 1px 3px 1px rgba(0, 0, 0, 0.15);\n",
              "      filter: drop-shadow(0px 1px 2px rgba(0, 0, 0, 0.3));\n",
              "      fill: #FFFFFF;\n",
              "    }\n",
              "  </style>\n",
              "\n",
              "    <script>\n",
              "      const buttonEl =\n",
              "        document.querySelector('#df-df8e4ef2-c2fc-488c-a4d1-df0cca614801 button.colab-df-convert');\n",
              "      buttonEl.style.display =\n",
              "        google.colab.kernel.accessAllowed ? 'block' : 'none';\n",
              "\n",
              "      async function convertToInteractive(key) {\n",
              "        const element = document.querySelector('#df-df8e4ef2-c2fc-488c-a4d1-df0cca614801');\n",
              "        const dataTable =\n",
              "          await google.colab.kernel.invokeFunction('convertToInteractive',\n",
              "                                                    [key], {});\n",
              "        if (!dataTable) return;\n",
              "\n",
              "        const docLinkHtml = 'Like what you see? Visit the ' +\n",
              "          '<a target=\"_blank\" href=https://colab.research.google.com/notebooks/data_table.ipynb>data table notebook</a>'\n",
              "          + ' to learn more about interactive tables.';\n",
              "        element.innerHTML = '';\n",
              "        dataTable['output_type'] = 'display_data';\n",
              "        await google.colab.output.renderOutput(dataTable, element);\n",
              "        const docLink = document.createElement('div');\n",
              "        docLink.innerHTML = docLinkHtml;\n",
              "        element.appendChild(docLink);\n",
              "      }\n",
              "    </script>\n",
              "  </div>\n",
              "\n",
              "\n",
              "<div id=\"df-dd012067-5648-426e-824d-a1723b5cd30f\">\n",
              "  <button class=\"colab-df-quickchart\" onclick=\"quickchart('df-dd012067-5648-426e-824d-a1723b5cd30f')\"\n",
              "            title=\"Suggest charts\"\n",
              "            style=\"display:none;\">\n",
              "\n",
              "<svg xmlns=\"http://www.w3.org/2000/svg\" height=\"24px\"viewBox=\"0 0 24 24\"\n",
              "     width=\"24px\">\n",
              "    <g>\n",
              "        <path d=\"M19 3H5c-1.1 0-2 .9-2 2v14c0 1.1.9 2 2 2h14c1.1 0 2-.9 2-2V5c0-1.1-.9-2-2-2zM9 17H7v-7h2v7zm4 0h-2V7h2v10zm4 0h-2v-4h2v4z\"/>\n",
              "    </g>\n",
              "</svg>\n",
              "  </button>\n",
              "\n",
              "<style>\n",
              "  .colab-df-quickchart {\n",
              "      --bg-color: #E8F0FE;\n",
              "      --fill-color: #1967D2;\n",
              "      --hover-bg-color: #E2EBFA;\n",
              "      --hover-fill-color: #174EA6;\n",
              "      --disabled-fill-color: #AAA;\n",
              "      --disabled-bg-color: #DDD;\n",
              "  }\n",
              "\n",
              "  [theme=dark] .colab-df-quickchart {\n",
              "      --bg-color: #3B4455;\n",
              "      --fill-color: #D2E3FC;\n",
              "      --hover-bg-color: #434B5C;\n",
              "      --hover-fill-color: #FFFFFF;\n",
              "      --disabled-bg-color: #3B4455;\n",
              "      --disabled-fill-color: #666;\n",
              "  }\n",
              "\n",
              "  .colab-df-quickchart {\n",
              "    background-color: var(--bg-color);\n",
              "    border: none;\n",
              "    border-radius: 50%;\n",
              "    cursor: pointer;\n",
              "    display: none;\n",
              "    fill: var(--fill-color);\n",
              "    height: 32px;\n",
              "    padding: 0;\n",
              "    width: 32px;\n",
              "  }\n",
              "\n",
              "  .colab-df-quickchart:hover {\n",
              "    background-color: var(--hover-bg-color);\n",
              "    box-shadow: 0 1px 2px rgba(60, 64, 67, 0.3), 0 1px 3px 1px rgba(60, 64, 67, 0.15);\n",
              "    fill: var(--button-hover-fill-color);\n",
              "  }\n",
              "\n",
              "  .colab-df-quickchart-complete:disabled,\n",
              "  .colab-df-quickchart-complete:disabled:hover {\n",
              "    background-color: var(--disabled-bg-color);\n",
              "    fill: var(--disabled-fill-color);\n",
              "    box-shadow: none;\n",
              "  }\n",
              "\n",
              "  .colab-df-spinner {\n",
              "    border: 2px solid var(--fill-color);\n",
              "    border-color: transparent;\n",
              "    border-bottom-color: var(--fill-color);\n",
              "    animation:\n",
              "      spin 1s steps(1) infinite;\n",
              "  }\n",
              "\n",
              "  @keyframes spin {\n",
              "    0% {\n",
              "      border-color: transparent;\n",
              "      border-bottom-color: var(--fill-color);\n",
              "      border-left-color: var(--fill-color);\n",
              "    }\n",
              "    20% {\n",
              "      border-color: transparent;\n",
              "      border-left-color: var(--fill-color);\n",
              "      border-top-color: var(--fill-color);\n",
              "    }\n",
              "    30% {\n",
              "      border-color: transparent;\n",
              "      border-left-color: var(--fill-color);\n",
              "      border-top-color: var(--fill-color);\n",
              "      border-right-color: var(--fill-color);\n",
              "    }\n",
              "    40% {\n",
              "      border-color: transparent;\n",
              "      border-right-color: var(--fill-color);\n",
              "      border-top-color: var(--fill-color);\n",
              "    }\n",
              "    60% {\n",
              "      border-color: transparent;\n",
              "      border-right-color: var(--fill-color);\n",
              "    }\n",
              "    80% {\n",
              "      border-color: transparent;\n",
              "      border-right-color: var(--fill-color);\n",
              "      border-bottom-color: var(--fill-color);\n",
              "    }\n",
              "    90% {\n",
              "      border-color: transparent;\n",
              "      border-bottom-color: var(--fill-color);\n",
              "    }\n",
              "  }\n",
              "</style>\n",
              "\n",
              "  <script>\n",
              "    async function quickchart(key) {\n",
              "      const quickchartButtonEl =\n",
              "        document.querySelector('#' + key + ' button');\n",
              "      quickchartButtonEl.disabled = true;  // To prevent multiple clicks.\n",
              "      quickchartButtonEl.classList.add('colab-df-spinner');\n",
              "      try {\n",
              "        const charts = await google.colab.kernel.invokeFunction(\n",
              "            'suggestCharts', [key], {});\n",
              "      } catch (error) {\n",
              "        console.error('Error during call to suggestCharts:', error);\n",
              "      }\n",
              "      quickchartButtonEl.classList.remove('colab-df-spinner');\n",
              "      quickchartButtonEl.classList.add('colab-df-quickchart-complete');\n",
              "    }\n",
              "    (() => {\n",
              "      let quickchartButtonEl =\n",
              "        document.querySelector('#df-dd012067-5648-426e-824d-a1723b5cd30f button');\n",
              "      quickchartButtonEl.style.display =\n",
              "        google.colab.kernel.accessAllowed ? 'block' : 'none';\n",
              "    })();\n",
              "  </script>\n",
              "</div>\n",
              "\n",
              "    </div>\n",
              "  </div>\n"
            ],
            "application/vnd.google.colaboratory.intrinsic+json": {
              "type": "dataframe",
              "variable_name": "df_all_anime",
              "summary": "{\n  \"name\": \"df_all_anime\",\n  \"rows\": 4469,\n  \"fields\": [\n    {\n      \"column\": \"mal_id\",\n      \"properties\": {\n        \"dtype\": \"number\",\n        \"std\": 16374,\n        \"min\": 1,\n        \"max\": 58391,\n        \"num_unique_values\": 4469,\n        \"samples\": [\n          50710,\n          146,\n          691\n        ],\n        \"semantic_type\": \"\",\n        \"description\": \"\"\n      }\n    },\n    {\n      \"column\": \"titles\",\n      \"properties\": {\n        \"dtype\": \"object\",\n        \"semantic_type\": \"\",\n        \"description\": \"\"\n      }\n    },\n    {\n      \"column\": \"type\",\n      \"properties\": {\n        \"dtype\": \"category\",\n        \"num_unique_values\": 8,\n        \"samples\": [\n          \"Movie\",\n          \"OVA\",\n          \"TV\"\n        ],\n        \"semantic_type\": \"\",\n        \"description\": \"\"\n      }\n    },\n    {\n      \"column\": \"source\",\n      \"properties\": {\n        \"dtype\": \"category\",\n        \"num_unique_values\": 17,\n        \"samples\": [\n          \"Manga\",\n          \"4-koma manga\",\n          \"Picture book\"\n        ],\n        \"semantic_type\": \"\",\n        \"description\": \"\"\n      }\n    },\n    {\n      \"column\": \"episodes\",\n      \"properties\": {\n        \"dtype\": \"number\",\n        \"std\": 59.63346941698653,\n        \"min\": 0.0,\n        \"max\": 1787.0,\n        \"num_unique_values\": 159,\n        \"samples\": [\n          94.0,\n          131.0,\n          76.0\n        ],\n        \"semantic_type\": \"\",\n        \"description\": \"\"\n      }\n    },\n    {\n      \"column\": \"rating\",\n      \"properties\": {\n        \"dtype\": \"number\",\n        \"std\": 59.63346941698653,\n        \"min\": 0.0,\n        \"max\": 1787.0,\n        \"num_unique_values\": 159,\n        \"samples\": [\n          94.0,\n          131.0,\n          76.0\n        ],\n        \"semantic_type\": \"\",\n        \"description\": \"\"\n      }\n    },\n    {\n      \"column\": \"score\",\n      \"properties\": {\n        \"dtype\": \"number\",\n        \"std\": 1.7070201172564543,\n        \"min\": 0.0,\n        \"max\": 9.38,\n        \"num_unique_values\": 473,\n        \"samples\": [\n          6.4,\n          5.45,\n          3.04\n        ],\n        \"semantic_type\": \"\",\n        \"description\": \"\"\n      }\n    },\n    {\n      \"column\": \"scored_by\",\n      \"properties\": {\n        \"dtype\": \"number\",\n        \"std\": 218015.41988837332,\n        \"min\": 0.0,\n        \"max\": 2795232.0,\n        \"num_unique_values\": 3815,\n        \"samples\": [\n          34109.0,\n          77071.0,\n          122997.0\n        ],\n        \"semantic_type\": \"\",\n        \"description\": \"\"\n      }\n    },\n    {\n      \"column\": \"rank\",\n      \"properties\": {\n        \"dtype\": \"number\",\n        \"std\": 4186.288612851093,\n        \"min\": 0.0,\n        \"max\": 20601.0,\n        \"num_unique_values\": 3805,\n        \"samples\": [\n          2285.0,\n          5576.0,\n          6181.0\n        ],\n        \"semantic_type\": \"\",\n        \"description\": \"\"\n      }\n    },\n    {\n      \"column\": \"popularity\",\n      \"properties\": {\n        \"dtype\": \"number\",\n        \"std\": 5700,\n        \"min\": 1,\n        \"max\": 26508,\n        \"num_unique_values\": 4313,\n        \"samples\": [\n          1439,\n          5,\n          3779\n        ],\n        \"semantic_type\": \"\",\n        \"description\": \"\"\n      }\n    },\n    {\n      \"column\": \"members\",\n      \"properties\": {\n        \"dtype\": \"number\",\n        \"std\": 356274,\n        \"min\": 51,\n        \"max\": 3943368,\n        \"num_unique_values\": 4219,\n        \"samples\": [\n          246609,\n          3857,\n          10333\n        ],\n        \"semantic_type\": \"\",\n        \"description\": \"\"\n      }\n    },\n    {\n      \"column\": \"favorites\",\n      \"properties\": {\n        \"dtype\": \"number\",\n        \"std\": 10597,\n        \"min\": 0,\n        \"max\": 225867,\n        \"num_unique_values\": 1725,\n        \"samples\": [\n          134,\n          12363,\n          67\n        ],\n        \"semantic_type\": \"\",\n        \"description\": \"\"\n      }\n    },\n    {\n      \"column\": \"synopsis\",\n      \"properties\": {\n        \"dtype\": \"string\",\n        \"num_unique_values\": 4442,\n        \"samples\": [\n          \"Following Gutsy Galaxy Guard's victory over the Zonder Empire and the 31 Primevals, a new threat makes their appearance on Earth. GGG\\u2014with Guy Shishio and the newly-constructed GaoFighGar\\u2014team up with their French counterpart Chasseur to battle the evil organization BioNet. Among Chasseur's ranks is Renais Cardiff Shishioh, a former BioNet cyborg with the relentless pursuit of destroying those who took away her humanity. But as GGG and Chasseur fight the BioNet, GGG's bases around the world are suddenly attacked, and the recently-discovered \\\"Q-Parts\\\" and the original Gao Machines are stolen by Mamoru Amami, who has been abducted and cloned by an even greater threat known as the \\\"Eleven Kings of Sol.\\\" Evicted from Earth by the United Nations, GGG must now travel to the far reaches of the galaxy to battle the Eleven Kings of Sol and save Mamoru before it's too late.\\n\\n(Source: ANN, edited)\",\n          \"Trouble arises in Staccato one day. Demons show up and start to wreak havoc on the townspeople. The entire country seems to be suffering. The source of the problem is that the \\\"barrier\\\" which until now has kept the demons from crossing over to the human world, is weakening. The person who sustains it is losing her strength after holding it up for so many years. That person is Queen Horn of Sforzando. Hell King Bass is trying to break through the barrier and release their \\\"supreme leader,\\\" Kestra (Orchestra). One whose power is unparalleled yet is trapped somewhere in the world of the humans.\\n\\n(Source: AniDB)\",\n          \"The Kodomo No Omocha OVA is a thirty-minute animation video that was made before the TV series. It covers the first volume of the manga, so it's equivalent to TV episodes 1-6. It relates Sana's troubles with Hayama at school as a result of the \\\"oyakodon baka\\\" situation and culminates when Hayama's dad and sister realize their mistakes thanks to Sana's efforts. \\n\\n(Source: AniDB)\"\n        ],\n        \"semantic_type\": \"\",\n        \"description\": \"\"\n      }\n    },\n    {\n      \"column\": \"studios\",\n      \"properties\": {\n        \"dtype\": \"category\",\n        \"num_unique_values\": 339,\n        \"samples\": [\n          \"Tear Studio\",\n          \"Sanctuary\",\n          \"Minami Machi Bugyousho\"\n        ],\n        \"semantic_type\": \"\",\n        \"description\": \"\"\n      }\n    },\n    {\n      \"column\": \"Type\",\n      \"properties\": {\n        \"dtype\": \"object\",\n        \"semantic_type\": \"\",\n        \"description\": \"\"\n      }\n    }\n  ]\n}"
            }
          },
          "metadata": {},
          "execution_count": 19
        }
      ]
    },
    {
      "cell_type": "code",
      "source": [
        "types = df_all_anime['Type'].tolist()"
      ],
      "metadata": {
        "id": "P0cK1xgbFfU4"
      },
      "execution_count": 20,
      "outputs": []
    },
    {
      "cell_type": "code",
      "source": [
        "main_list = []\n",
        "for item in types:\n",
        "  temp = len(item)\n",
        "  i = 0\n",
        "  while i < temp:\n",
        "    if item[i] in main_list:\n",
        "      i = i + 1\n",
        "      continue\n",
        "    else:\n",
        "      main_list.append(item[i])\n"
      ],
      "metadata": {
        "id": "deiM1ow0bkGo"
      },
      "execution_count": 21,
      "outputs": []
    },
    {
      "cell_type": "code",
      "source": [
        "main_list"
      ],
      "metadata": {
        "colab": {
          "base_uri": "https://localhost:8080/"
        },
        "id": "NHAPAl-heH3Y",
        "outputId": "32e076e8-e241-4505-ebd6-9009c0ee0507"
      },
      "execution_count": 22,
      "outputs": [
        {
          "output_type": "execute_result",
          "data": {
            "text/plain": [
              "['Drama',\n",
              " 'Sports',\n",
              " 'Team Sports',\n",
              " 'Comedy',\n",
              " 'Slice of Life',\n",
              " 'Avant Garde',\n",
              " 'Parody',\n",
              " 'Psychological',\n",
              " 'Adventure',\n",
              " 'Combat Sports',\n",
              " 'Award Winning',\n",
              " 'Fantasy',\n",
              " 'Music',\n",
              " 'Action',\n",
              " 'Historical',\n",
              " 'Sci-Fi',\n",
              " 'Romance',\n",
              " 'Martial Arts',\n",
              " 'Samurai',\n",
              " 'Mythology',\n",
              " 'Super Power',\n",
              " 'Educational',\n",
              " 'Military',\n",
              " 'Racing',\n",
              " 'Hentai',\n",
              " 'Mystery',\n",
              " 'Adult Cast',\n",
              " 'Supernatural',\n",
              " 'Gag Humor',\n",
              " 'School',\n",
              " 'Horror',\n",
              " 'Anthropomorphic',\n",
              " 'Pets',\n",
              " 'Mahou Shoujo',\n",
              " 'Mecha',\n",
              " 'Ecchi',\n",
              " 'Space',\n",
              " 'Detective',\n",
              " 'Visual Arts',\n",
              " 'Suspense',\n",
              " 'Vampire',\n",
              " 'Strategy Game',\n",
              " 'Time Travel',\n",
              " 'Boys Love',\n",
              " 'Otaku Culture',\n",
              " 'Video Game',\n",
              " 'Childcare',\n",
              " 'Isekai',\n",
              " 'Crossdressing',\n",
              " 'Organized Crime',\n",
              " 'Idols (Female)',\n",
              " 'Love Polygon',\n",
              " 'Performing Arts',\n",
              " 'Gore',\n",
              " 'Girls Love',\n",
              " 'Medical',\n",
              " 'Delinquents',\n",
              " 'Erotica',\n",
              " 'Gourmet',\n",
              " 'Workplace',\n",
              " 'Showbiz',\n",
              " 'Magical Sex Shift',\n",
              " 'Idols (Male)',\n",
              " 'Reverse Harem',\n",
              " 'Iyashikei',\n",
              " 'Harem',\n",
              " 'Reincarnation',\n",
              " 'Survival',\n",
              " 'CGDCT',\n",
              " 'High Stakes Game',\n",
              " 'Romantic Subtext']"
            ]
          },
          "metadata": {},
          "execution_count": 22
        }
      ]
    },
    {
      "cell_type": "code",
      "source": [
        "from sklearn.feature_extraction.text import TfidfVectorizer,CountVectorizer"
      ],
      "metadata": {
        "id": "-WYkUSac2sLn"
      },
      "execution_count": null,
      "outputs": []
    },
    {
      "cell_type": "code",
      "source": [
        "from sklearn.model_selection import train_test_split"
      ],
      "metadata": {
        "id": "Wpswp2m4C06R"
      },
      "execution_count": null,
      "outputs": []
    },
    {
      "cell_type": "code",
      "source": [
        "X_train, X_test, y_train, y_test = train_test_split(df_all_anime['synopsis'], df_all_anime['titles'], test_size=0.33, random_state=42)"
      ],
      "metadata": {
        "id": "0s7_bRfGC-P1"
      },
      "execution_count": null,
      "outputs": []
    },
    {
      "cell_type": "code",
      "source": [
        "# instantiate the vectorizer object\n",
        "countvectorizer = CountVectorizer(analyzer= 'word', stop_words='english')\n",
        "tfidfvectorizer = TfidfVectorizer(analyzer='word',stop_words= 'english')"
      ],
      "metadata": {
        "id": "3svYAtzfDinh"
      },
      "execution_count": null,
      "outputs": []
    },
    {
      "cell_type": "markdown",
      "source": [
        "## Changing the dataset"
      ],
      "metadata": {
        "id": "IrRK9zuyhAlY"
      }
    },
    {
      "cell_type": "code",
      "source": [
        "! kaggle datasets download -d dbdmobile/myanimelist-dataset"
      ],
      "metadata": {
        "colab": {
          "base_uri": "https://localhost:8080/"
        },
        "id": "pZFniRzKh_KH",
        "outputId": "5df41e35-c2bc-43d1-f541-e8ad5a59edac"
      },
      "execution_count": 23,
      "outputs": [
        {
          "output_type": "stream",
          "name": "stdout",
          "text": [
            "Dataset URL: https://www.kaggle.com/datasets/dbdmobile/myanimelist-dataset\n",
            "License(s): DbCL-1.0\n",
            "Downloading myanimelist-dataset.zip to /content\n",
            "100% 1.79G/1.80G [00:29<00:00, 34.5MB/s]\n",
            "100% 1.80G/1.80G [00:29<00:00, 64.3MB/s]\n"
          ]
        }
      ]
    },
    {
      "cell_type": "code",
      "source": [
        "! unzip myanimelist-dataset.zip"
      ],
      "metadata": {
        "colab": {
          "base_uri": "https://localhost:8080/"
        },
        "id": "rzCPzvBxiGou",
        "outputId": "d12629a4-771b-48f1-88e6-f4e817b59e66"
      },
      "execution_count": 28,
      "outputs": [
        {
          "output_type": "stream",
          "name": "stdout",
          "text": [
            "Archive:  myanimelist-dataset.zip\n",
            "  inflating: anime-dataset-2023.csv  \n",
            "  inflating: anime-filtered.csv      \n",
            "  inflating: final_animedataset.csv  \n",
            "  inflating: user-filtered.csv       \n",
            "  inflating: users-details-2023.csv  \n",
            "  inflating: users-score-2023.csv    \n"
          ]
        }
      ]
    },
    {
      "cell_type": "code",
      "source": [
        "df_new = pd.read_csv('anime-dataset-2023.csv')"
      ],
      "metadata": {
        "id": "rHc55yA3hU3J"
      },
      "execution_count": 29,
      "outputs": []
    },
    {
      "cell_type": "code",
      "source": [
        "df_new.info()"
      ],
      "metadata": {
        "colab": {
          "base_uri": "https://localhost:8080/"
        },
        "id": "voNvAkA2jCrt",
        "outputId": "a01d13ea-5096-4cfa-a82f-ea3a93cd5c05"
      },
      "execution_count": 30,
      "outputs": [
        {
          "output_type": "stream",
          "name": "stdout",
          "text": [
            "<class 'pandas.core.frame.DataFrame'>\n",
            "RangeIndex: 24905 entries, 0 to 24904\n",
            "Data columns (total 24 columns):\n",
            " #   Column        Non-Null Count  Dtype \n",
            "---  ------        --------------  ----- \n",
            " 0   anime_id      24905 non-null  int64 \n",
            " 1   Name          24905 non-null  object\n",
            " 2   English name  24905 non-null  object\n",
            " 3   Other name    24905 non-null  object\n",
            " 4   Score         24905 non-null  object\n",
            " 5   Genres        24905 non-null  object\n",
            " 6   Synopsis      24905 non-null  object\n",
            " 7   Type          24905 non-null  object\n",
            " 8   Episodes      24905 non-null  object\n",
            " 9   Aired         24905 non-null  object\n",
            " 10  Premiered     24905 non-null  object\n",
            " 11  Status        24905 non-null  object\n",
            " 12  Producers     24905 non-null  object\n",
            " 13  Licensors     24905 non-null  object\n",
            " 14  Studios       24905 non-null  object\n",
            " 15  Source        24905 non-null  object\n",
            " 16  Duration      24905 non-null  object\n",
            " 17  Rating        24905 non-null  object\n",
            " 18  Rank          24905 non-null  object\n",
            " 19  Popularity    24905 non-null  int64 \n",
            " 20  Favorites     24905 non-null  int64 \n",
            " 21  Scored By     24905 non-null  object\n",
            " 22  Members       24905 non-null  int64 \n",
            " 23  Image URL     24905 non-null  object\n",
            "dtypes: int64(4), object(20)\n",
            "memory usage: 4.6+ MB\n"
          ]
        }
      ]
    }
  ]
}